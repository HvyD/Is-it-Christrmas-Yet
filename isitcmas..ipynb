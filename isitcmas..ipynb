{
 "cells": [
  {
   "cell_type": "markdown",
   "metadata": {},
   "source": [
    "## Created By HvyD && Phidget_Kitty\n",
    "This is a fun little scrypt and notebook built Christmas Eve 2018 with my Daughter.\n",
    "This script should work all year around, provided the Python and datetime package is not defunct. "
   ]
  },
  {
   "cell_type": "code",
   "execution_count": 1,
   "metadata": {},
   "outputs": [],
   "source": [
    "# imports\n",
    "import datetime"
   ]
  },
  {
   "cell_type": "code",
   "execution_count": 2,
   "metadata": {},
   "outputs": [],
   "source": [
    "# Todays Date and Christmas Variable's\n",
    "Today = datetime.date.today()\n",
    "Christmas = datetime.date(Today.year , 12, 25)"
   ]
  },
  {
   "cell_type": "code",
   "execution_count": 3,
   "metadata": {},
   "outputs": [
    {
     "data": {
      "text/plain": [
       "datetime.date(2018, 12, 25)"
      ]
     },
     "execution_count": 3,
     "metadata": {},
     "output_type": "execute_result"
    }
   ],
   "source": [
    "# Package variable test\n",
    "Today"
   ]
  },
  {
   "cell_type": "code",
   "execution_count": 4,
   "metadata": {},
   "outputs": [
    {
     "name": "stdout",
     "output_type": "stream",
     "text": [
      "MERRY CHRISTMAS\n"
     ]
    }
   ],
   "source": [
    "# Boolean conditional statement checking Variable's \n",
    "if Today == Christmas:\n",
    "    print(\"MERRY CHRISTMAS\") # return message\n",
    "\n",
    "else:\n",
    "    print(\"No Presents For You!! it's only\",Today.strftime('%b %d,%Y')) # return meesage with date function changed\n"
   ]
  },
  {
   "cell_type": "code",
   "execution_count": null,
   "metadata": {},
   "outputs": [],
   "source": []
  }
 ],
 "metadata": {
  "kernelspec": {
   "display_name": "Python 3",
   "language": "python",
   "name": "python3"
  },
  "language_info": {
   "codemirror_mode": {
    "name": "ipython",
    "version": 3
   },
   "file_extension": ".py",
   "mimetype": "text/x-python",
   "name": "python",
   "nbconvert_exporter": "python",
   "pygments_lexer": "ipython3",
   "version": "3.5.6"
  }
 },
 "nbformat": 4,
 "nbformat_minor": 2
}
