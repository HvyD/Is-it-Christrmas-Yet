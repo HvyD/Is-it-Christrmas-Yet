{
 "cells": [
  {
   "cell_type": "markdown",
   "metadata": {},
   "source": [
    "## Created By HvyD && Phidget_Kitty\n",
    "This is a fun little scrypt and notebook built Christmas Eve 2018 and 2019 with my Daughter.\n",
    "This script should work all year around, provided the Python and datetime package is not defunct. "
   ]
  },
  {
   "cell_type": "code",
   "execution_count": 1,
   "metadata": {},
   "outputs": [],
   "source": [
    "# imports\n",
    "import datetime"
   ]
  },
  {
   "cell_type": "code",
   "execution_count": 2,
   "metadata": {},
   "outputs": [],
   "source": [
    "# Todays Date and Christmas Variable's\n",
    "Today = datetime.datetime.today()\n",
    "Christmas = datetime.datetime(Today.year , 12, 25)"
   ]
  },
  {
   "cell_type": "code",
   "execution_count": 9,
   "metadata": {},
   "outputs": [
    {
     "name": "stdout",
     "output_type": "stream",
     "text": [
      "This is Todays Date: 2019-12-24 17:40:55.130913\n",
      "This is Christmas Date with zero start base time for Count Down: 2019-12-25 00:00:00\n"
     ]
    }
   ],
   "source": [
    "# Package variable test\n",
    "print(\"This is Todays Date: {}\".format(Today))\n",
    "print(\"This is Christmas Date with zero start base time for Count Down: {}\".format(Christmas))"
   ]
  },
  {
   "cell_type": "code",
   "execution_count": 10,
   "metadata": {},
   "outputs": [
    {
     "name": "stdout",
     "output_type": "stream",
     "text": [
      "No Presents For You!! it's only Dec 24,2019\n"
     ]
    }
   ],
   "source": [
    "# Boolean conditional statement checking Variable's \n",
    "if Today == Christmas:\n",
    "    print(\"MERRY CHRISTMAS\") # return message\n",
    "\n",
    "else:\n",
    "    print(\"No Presents For You!! it's only\",Today.strftime('%b %d,%Y')) # return meesage with date function changed\n"
   ]
  },
  {
   "cell_type": "code",
   "execution_count": 12,
   "metadata": {},
   "outputs": [
    {
     "name": "stdout",
     "output_type": "stream",
     "text": [
      "Press the <ENTER> key to continue...\n"
     ]
    },
    {
     "data": {
      "text/plain": [
       "''"
      ]
     },
     "execution_count": 12,
     "metadata": {},
     "output_type": "execute_result"
    }
   ],
   "source": [
    "# Screen Spacing for user input, uncomment to use:\n",
    "#for i in range(11):\n",
    "    #print('\\n')\n",
    "\n",
    "input(\"Press the <ENTER> key to continue...\")"
   ]
  },
  {
   "cell_type": "code",
   "execution_count": 16,
   "metadata": {},
   "outputs": [
    {
     "name": "stdout",
     "output_type": "stream",
     "text": [
      "Bye, Bye\n",
      "Try Again in : 6:19:04.869087\n",
      "\n",
      "\n"
     ]
    }
   ],
   "source": [
    "# Screen spacing for Countdown and program exit, uncomment to use:\n",
    "#for i in range(11):\n",
    "    #print('\\n')\n",
    "\n",
    "print(\"Bye, Bye\")\n",
    "# This returns count down until Christmas - Days:Hours:Min:Secs to the 6th int\n",
    "print(\"Try Again in : {}\".format(Christmas - Today))\n",
    "print('\\n')\n"
   ]
  },
  {
   "cell_type": "code",
   "execution_count": 15,
   "metadata": {},
   "outputs": [
    {
     "name": "stdout",
     "output_type": "stream",
     "text": [
      "Try Again in : 4 days, 6:19:04.869087\n"
     ]
    }
   ],
   "source": [
    "## Counter Test ###\n",
    "test_ChristmasDate = datetime.datetime(Today.year , 12, 29)\n",
    "print(\"Try Again in : {}\".format(test_ChristmasDate - Today))"
   ]
  }
 ],
 "metadata": {
  "kernelspec": {
   "display_name": "Python 3",
   "language": "python",
   "name": "python3"
  },
  "language_info": {
   "codemirror_mode": {
    "name": "ipython",
    "version": 3
   },
   "file_extension": ".py",
   "mimetype": "text/x-python",
   "name": "python",
   "nbconvert_exporter": "python",
   "pygments_lexer": "ipython3",
   "version": "3.7.4"
  }
 },
 "nbformat": 4,
 "nbformat_minor": 2
}
